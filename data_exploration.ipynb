{
 "cells": [
  {
   "cell_type": "markdown",
   "id": "b249fe12-b403-42d1-acbd-99e21f32d115",
   "metadata": {},
   "source": [
    "****Read the Excel file, rearrange the data, and assign appropriate headers.****"
   ]
  },
  {
   "cell_type": "code",
   "execution_count": 3,
   "id": "eb0272f3-2581-4a5b-be64-b1677e42402e",
   "metadata": {},
   "outputs": [],
   "source": [
    "import pandas as pd\n",
    "filename='data/raw/IR Biens 202207 EN.xlsx'\n",
    "\n",
    "\n",
    "def fatch_data(filename,sheet_name):\n",
    "    data= pd.read_excel(filename,sheet_name=sheet_name, index_col=None, header=None)\n",
    "    data.drop(index=data.index[:11], axis=0,columns=16, inplace=True)\n",
    "    data.columns=['date','total','food_product','food_product_except_tobacco','eng_prod','eng_prod_durab','eng_prod_durab_transport_equipment','eng_prod_durab_household_durables','eng_prod_durab_other_durables','eng_prod_textile_lether','eng_prod_other_engineered_goods','energy','energy_water_waste','energy_fuel_and_oil','energy_including_petrolieam_product','energy_expept_petroleam_products','manufactured_goods']\n",
    "    return data\n",
    "\n",
    "contributions_data=fatch_data(filename,\"Contributions\")\n",
    "evolution_changes_data=fatch_data(filename,\"Evolutions - Changes\")\n",
    "niveaux_levels=fatch_data(filename,\"Niveaux - Levels\")\n"
   ]
  },
  {
   "cell_type": "markdown",
   "id": "567cf256-cf8d-4021-a644-6fd3c2e10230",
   "metadata": {},
   "source": [
    "****Null value count of Contribution Data****"
   ]
  },
  {
   "cell_type": "code",
   "execution_count": 82,
   "id": "839d9648-f552-4337-b78c-65c5b201b5ac",
   "metadata": {},
   "outputs": [
    {
     "data": {
      "text/plain": [
       "date                                    0\n",
       "total                                   1\n",
       "food_product                           13\n",
       "food_product_except_tobacco            13\n",
       "eng_prod                               13\n",
       "eng_prod_durab                         13\n",
       "eng_prod_durab_transport_equipment     13\n",
       "eng_prod_durab_household_durables      13\n",
       "eng_prod_durab_other_durables          13\n",
       "eng_prod_textile_lether                13\n",
       "eng_prod_other_engineered_goods        13\n",
       "energy                                 13\n",
       "energy_water_waste                     13\n",
       "energy_fuel_and_oil                    13\n",
       "energy_including_petrolieam_product    13\n",
       "energy_expept_petroleam_products       13\n",
       "manufactured_goods                     13\n",
       "dtype: int64"
      ]
     },
     "metadata": {},
     "output_type": "display_data"
    }
   ],
   "source": [
    "display(contributions_data.isna().sum())"
   ]
  },
  {
   "cell_type": "markdown",
   "id": "413e1d82-950e-4698-a661-c8c9840ee5a7",
   "metadata": {},
   "source": [
    "****Null value count of Evolution Changes Data****"
   ]
  },
  {
   "cell_type": "code",
   "execution_count": 83,
   "id": "3d1b9b44-59d8-4cba-8d8b-68cdfd4e8ccd",
   "metadata": {},
   "outputs": [
    {
     "data": {
      "text/plain": [
       "date                                   0\n",
       "total                                  1\n",
       "food_product                           1\n",
       "food_product_except_tobacco            1\n",
       "eng_prod                               1\n",
       "eng_prod_durab                         1\n",
       "eng_prod_durab_transport_equipment     1\n",
       "eng_prod_durab_household_durables      1\n",
       "eng_prod_durab_other_durables          1\n",
       "eng_prod_textile_lether                1\n",
       "eng_prod_other_engineered_goods        1\n",
       "energy                                 1\n",
       "energy_water_waste                     1\n",
       "energy_fuel_and_oil                    1\n",
       "energy_including_petrolieam_product    1\n",
       "energy_expept_petroleam_products       1\n",
       "manufactured_goods                     1\n",
       "dtype: int64"
      ]
     },
     "metadata": {},
     "output_type": "display_data"
    }
   ],
   "source": [
    "display(evolution_changes_data.isna().sum())"
   ]
  },
  {
   "cell_type": "markdown",
   "id": "37fddc06-0121-4509-9295-1307a08cbdb9",
   "metadata": {},
   "source": [
    "****Null value count of Niveaux Levels Data****"
   ]
  },
  {
   "cell_type": "code",
   "execution_count": 84,
   "id": "9f5ef543-b024-4716-a286-7db1a5469fc4",
   "metadata": {},
   "outputs": [
    {
     "data": {
      "text/plain": [
       "date                                   0\n",
       "total                                  0\n",
       "food_product                           0\n",
       "food_product_except_tobacco            0\n",
       "eng_prod                               0\n",
       "eng_prod_durab                         0\n",
       "eng_prod_durab_transport_equipment     0\n",
       "eng_prod_durab_household_durables      0\n",
       "eng_prod_durab_other_durables          0\n",
       "eng_prod_textile_lether                0\n",
       "eng_prod_other_engineered_goods        0\n",
       "energy                                 0\n",
       "energy_water_waste                     0\n",
       "energy_fuel_and_oil                    0\n",
       "energy_including_petrolieam_product    0\n",
       "energy_expept_petroleam_products       0\n",
       "manufactured_goods                     0\n",
       "dtype: int64"
      ]
     },
     "execution_count": 84,
     "metadata": {},
     "output_type": "execute_result"
    }
   ],
   "source": [
    "niveaux_levels.isna().sum()"
   ]
  },
  {
   "cell_type": "code",
   "execution_count": 8,
   "id": "2ed4b95b-7be2-4ac7-b3cc-728b2ea298dc",
   "metadata": {},
   "outputs": [],
   "source": [
    "from datetime import datetime\n",
    "import os\n",
    "today_date = datetime.today().strftime('%d%m%Y')\n",
    "folder = f'data/{today_date}'\n",
    "os.makedirs(folder, exist_ok=True)\n",
    "evolution_changes_data.to_csv(f\"data/{today_date}/evolution_changes_data.csv\")"
   ]
  },
  {
   "cell_type": "code",
   "execution_count": null,
   "id": "a3b2bb8f-4d64-42bc-a89d-01854903a8da",
   "metadata": {},
   "outputs": [],
   "source": []
  }
 ],
 "metadata": {
  "kernelspec": {
   "display_name": "Python 3 (ipykernel)",
   "language": "python",
   "name": "python3"
  },
  "language_info": {
   "codemirror_mode": {
    "name": "ipython",
    "version": 3
   },
   "file_extension": ".py",
   "mimetype": "text/x-python",
   "name": "python",
   "nbconvert_exporter": "python",
   "pygments_lexer": "ipython3",
   "version": "3.11.0"
  }
 },
 "nbformat": 4,
 "nbformat_minor": 5
}
